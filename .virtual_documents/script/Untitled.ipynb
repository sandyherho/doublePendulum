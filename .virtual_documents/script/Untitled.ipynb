import pandas as pd
import matplotlib.pyplot as plt
plt.style.use('bmh')


df = pd.read_csv('../data/python_double_pendulum.csv')


df.head()


plt.plot(df['x1'], df['y1'])
plt.plot(df['x2'], df['y2'])
plt.xlabel(r'$x$ [m]', fontsize=18)
plt.ylabel(r'$y$ [m]', fontsize=18)
plt.legend(['Inner Pendulum (1)', 'Outer Pendulum (2)'], loc='lower right')
plt.savefig('../figs/fig3.png', dpi=400)


plt.plot(df['theta1'], df['omega1'])
plt.plot(df['theta2'], df['omega2'])
plt.xlabel(r'$\theta$ [rad]', fontsize=18)
plt.ylabel(r'$\dot{\theta}$ [rad/s]', fontsize=18)
plt.legend(['Inner Pendulum (1)', 'Outer Pendulum (2)'])
plt.savefig('../figs/fig4.png', dpi=400)






