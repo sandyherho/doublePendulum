import pandas as pd
import matplotlib.pyplot as plt
plt.style.use('bmh')


df_ori = pd.read_csv('../data/python_double_pendulum_original.csv')
df_mod = pd.read_csv('../data/python_double_pendulum_modified.csv')


plt.figure()
plt.plot(df_ori['t'], df_ori['x1'], ls='--')
plt.plot(df_mod['t'], df_mod['x1'], ls='--')
plt.xlabel(r'$t$ [s]', fontsize=18)
plt.ylabel(r'$x_1$ [m]', fontsize=18)
plt.legend(['Original', 'Perturbed'], loc='lower right')
plt.savefig('../figs/fig2a.png', dpi=400)


plt.figure()
plt.plot(df_ori['t'], df_ori['y1'], ls='--')
plt.plot(df_mod['t'], df_mod['y1'], ls='--')
plt.xlabel(r'$t$ [s]', fontsize=18)
plt.ylabel(r'$y_1$ [m]', fontsize=18)
plt.legend(['Original', 'Perturbed'], loc='lower right')
plt.savefig('../figs/fig2b.png', dpi=400)


plt.figure()
plt.plot(df_ori['t'], df_ori['x2'], ls='--')
plt.plot(df_mod['t'], df_mod['x2'], ls='--')
plt.xlabel(r'$t$ [s]', fontsize=18)
plt.ylabel(r'$x_2$ [m]', fontsize=18)
plt.legend(['Original', 'Perturbed'], loc='lower right')
plt.savefig('../figs/fig2c.png', dpi=400)


plt.figure()
plt.plot(df_ori['t'], df_ori['y2'], ls='--')
plt.plot(df_mod['t'], df_mod['y2'], ls='--')
plt.xlabel(r'$t$ [s]', fontsize=18)
plt.ylabel(r'$y_2$ [m]', fontsize=18)
plt.legend(['Original', 'Perturbed'], loc='lower right')
plt.savefig('../figs/fig2d.png', dpi=400)


plt.figure()
plt.plot(df_ori['t'], df_ori['theta1'], ls='--')
plt.plot(df_mod['t'], df_mod['theta1'], ls='--')
plt.xlabel(r'$t$ [s]', fontsize=18)
plt.ylabel(r'$\theta_1$ [rad]', fontsize=18)
plt.legend(['Original', 'Perturbed'], loc='lower right')
plt.savefig('../figs/fig3a.png', dpi=400)


plt.figure()
plt.plot(df_ori['t'], df_ori['theta2'], ls='--')
plt.plot(df_mod['t'], df_mod['theta2'], ls='--')
plt.xlabel(r'$t$ [s]', fontsize=18)
plt.ylabel(r'$\theta_2$ [rad]', fontsize=18)
plt.legend(['Original', 'Perturbed'], loc='lower right')
plt.savefig('../figs/fig3b.png', dpi=400)


plt.figure()
plt.plot(df_ori['t'], df_ori['omega1'], ls='--')
plt.plot(df_mod['t'], df_mod['omega1'], ls='--')
plt.xlabel(r'$t$ [s]', fontsize=18)
plt.ylabel(r'$\dot{\theta}_1$ [rad/s]', fontsize=18)
plt.legend(['Original', 'Perturbed'], loc='lower right')
plt.savefig('../figs/fig3c.png', dpi=400)

plt.figure()
plt.plot(df_ori['t'], df_ori['omega1'], ls='--')
plt.plot(df_mod['t'], df_mod['omega1'], ls='--')
plt.xlabel(r'$t$ [s]', fontsize=18)
plt.ylabel(r'$\dot{\theta}_1$ [rad/s]', fontsize=18)
plt.legend(['Original', 'Perturbed'], loc='lower right')
plt.savefig('../figs/fig3d.png', dpi=400)


plt.figure()
plt.plot(df_ori['x1'], df_ori['y1'])
plt.plot(df_ori['x2'], df_ori['y2'])
plt.xlabel(r'$x$ [m]', fontsize=18)
plt.ylabel(r'$y$ [m]', fontsize=18)
plt.legend(['Inner Pendulum (1)', 'Outer Pendulum (2)'], loc='lower right')
plt.savefig('../figs/fig4a.png', dpi=400)

plt.figure()
plt.plot(df_mod['x1'], df_mod['y1'])
plt.plot(df_mod['x2'], df_mod['y2'])
plt.xlabel(r'$x$ [m]', fontsize=18)
plt.ylabel(r'$y$ [m]', fontsize=18)
plt.legend(['Inner Pendulum (1)', 'Outer Pendulum (2)'], loc='lower right')
plt.savefig('../figs/fig4b.png', dpi=400)








plt.figure()
plt.plot(df_ori['theta1'], df_ori['omega1'])
plt.plot(df_ori['theta2'], df_ori['omega2'])
plt.xlabel(r'$\theta$ [rad]', fontsize=18)
plt.ylabel(r'$\dot{\theta}$ [rad/s]', fontsize=18)
plt.legend(['Inner Pendulum (1)', 'Outer Pendulum (2)'])
plt.savefig('../figs/fig4c.png', dpi=400)

plt.figure()
plt.plot(df_mod['theta1'], df_mod['omega1'])
plt.plot(df_mod['theta2'], df_mod['omega2'])
plt.xlabel(r'$\theta$ [rad]', fontsize=18)
plt.ylabel(r'$\dot{\theta}$ [rad/s]', fontsize=18)
plt.legend(['Inner Pendulum (1)', 'Outer Pendulum (2)'])
plt.savefig('../figs/fig4d.png', dpi=400)












