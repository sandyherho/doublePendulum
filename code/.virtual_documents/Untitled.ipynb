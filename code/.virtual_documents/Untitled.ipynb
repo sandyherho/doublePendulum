import numpy as np
import pandas as pd
import scipy.stats as stats
import scikit_posthocs as sp
import seaborn as sns
import matplotlib.pyplot as plt
plt.style.use('bmh')


py = pd.read_csv('../data/logs/py_log.csv')
m = pd.read_csv('../data/logs/m_log.csv')
jl = pd.read_csv('../data/logs/jl_log.csv')
R = pd.read_csv('../data/logs/R_log.csv')


r_py = py['runtime']


all_data = [py['runtime'], m['runtime'], jl['runtime'], R['runtime']]
labels = ['Python', 'GNU Octave', 'Julia', 'R']

# Prepare data for Dunn's test by creating a DataFrame
data_stacked = np.concatenate(all_data)
groups = np.concatenate([[label] * len(data) for data, label in zip(all_data, labels)])
df_dunn = pd.DataFrame({'Execution Time': data_stacked, 'Group': groups})

# Visualizations for each group
# Create and save a Boxplot
plt.figure(figsize=(10, 6))
sns.boxplot(x='Group', y='Execution Time', data=df_dunn)
plt.xticks(ticks=np.arange(len(labels)), labels=labels, fontsize=12)
plt.yticks(fontsize=12)
plt.xlabel('Computing Environment', fontsize=18)
plt.ylabel('Execution Time [seconds]', fontsize=18)
plt.tight_layout()
plt.savefig('../figs/boxRun.png', dpi=450)

alpha = 0.05

# Perform the Kruskal-Wallis test
kw_stat, kw_pvalue = stats.kruskal(*all_data)

# Print the Kruskal-Wallis test results
print(f'Kruskal-Wallis test statistic: {kw_stat:.3f}, p-value: {kw_pvalue:.3f}')
if kw_pvalue < alpha:
    print("Significant differences found among the groups.")
    print("This indicates that at least one group's median significantly differs from the others.")
else:
    print("No significant differences found among the groups.")
    print("This suggests that there is no statistical evidence to conclude that the groups differ in median.")



# Proceed with Dunn's post-hoc test if significant
if kw_pvalue < alpha:
# Dunn's post-hoc test with Bonferroni adjustment
    dunn_pvalues = sp.posthoc_dunn(df_dunn, val_col='Execution Time', group_col='Group', p_adjust='bonferroni')

    # Print Dunn's test results
    print("Dunn's test p-values (Bonferroni adjusted):")
    print(dunn_pvalues.round(3))
    print("Values below 0.05 indicate pairs of groups with statistically significant differences in medians.")

    # Visualize Dunn's test results using a heatmap with black border lines
    plt.figure(figsize=(10, 8))
    ax = sns.heatmap(dunn_pvalues, cmap='binary_r', fmt=".3f",
                xticklabels=labels, yticklabels=labels,
                linecolor='black', linewidths=1)
    colorbar = ax.collections[0].colorbar
    colorbar.set_label('p-values', fontsize=22)
    plt.xticks(fontsize=12)
    plt.yticks(fontsize=12)
    plt.savefig('../figs/dunRun.png', dpi=450)


py


all_data = [py['memory'], m['memory'], jl['memory'], R['memory']]
labels = ['Python', 'GNU Octave', 'Julia', 'R']

# Prepare data for Dunn's test by creating a DataFrame
data_stacked = np.concatenate(all_data)
groups = np.concatenate([[label] * len(data) for data, label in zip(all_data, labels)])
df_dunn = pd.DataFrame({'Memory Usage': data_stacked, 'Group': groups})

# Visualizations for each group
# Create and save a Boxplot
plt.figure(figsize=(10, 6))
sns.boxplot(x='Group', y='Memory Usage', data=df_dunn)
plt.xticks(ticks=np.arange(len(labels)), labels=labels, fontsize=12)
plt.yticks(fontsize=12)
plt.xlabel('Computing Environment', fontsize=18)
plt.ylabel('Memory [MB]', fontsize=18)
plt.tight_layout()
plt.savefig('../figs/boxMem.png', dpi=450)

alpha = 0.05

# Perform the Kruskal-Wallis test
kw_stat, kw_pvalue = stats.kruskal(*all_data)

# Print the Kruskal-Wallis test results
print(f'Kruskal-Wallis test statistic: {kw_stat:.3f}, p-value: {kw_pvalue:.3f}')
if kw_pvalue < alpha:
    print("Significant differences found among the groups.")
    print("This indicates that at least one group's median significantly differs from the others.")
else:
    print("No significant differences found among the groups.")
    print("This suggests that there is no statistical evidence to conclude that the groups differ in median.")



# Proceed with Dunn's post-hoc test if significant
if kw_pvalue < alpha:
# Dunn's post-hoc test with Bonferroni adjustment
    dunn_pvalues = sp.posthoc_dunn(df_dunn, val_col='Memory Usage', group_col='Group', p_adjust='bonferroni')

    # Print Dunn's test results
    print("Dunn's test p-values (Bonferroni adjusted):")
    print(dunn_pvalues.round(3))
    print("Values below 0.05 indicate pairs of groups with statistically significant differences in medians.")

    # Visualize Dunn's test results using a heatmap with black border lines
    plt.figure(figsize=(10, 8))
    ax = sns.heatmap(dunn_pvalues, cmap='binary_r', fmt=".3f",
                xticklabels=labels, yticklabels=labels,
                linecolor='black', linewidths=1)
    colorbar = ax.collections[0].colorbar
    colorbar.set_label('p-values', fontsize=22)
    plt.xticks(fontsize=12)
    plt.yticks(fontsize=12)
    plt.savefig('../figs/dunMem.png', dpi=450)



